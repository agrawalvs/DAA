{
 "cells": [
  {
   "cell_type": "code",
   "execution_count": 13,
   "id": "4cc6dc95",
   "metadata": {},
   "outputs": [],
   "source": [
    "import time\n",
    "import pandas as pd\n",
    "\n",
    "data= pd.read_csv(\"UBER.csv\")\n",
    "df = pd.DataFrame(data)\n",
    "#print(df.head(10))\n",
    "\n",
    "a=df['Open'].to_numpy()\n",
    "b=df['High'].to_numpy()\n",
    "c=df['Low'].to_numpy()\n",
    "d=df['Close'].to_numpy()\n",
    "e=df['Adj Close'].to_numpy()\n",
    "\n",
    "b.sort()\n",
    "c.sort()\n",
    "c = c[::-1]\n",
    "d = d[1:100]\n",
    "e = e[1:200]\n",
    "\n",
    "def quick_sort(a,low,high):\n",
    "    if low < high :\n",
    "        pi = partition(a,low,high)\n",
    "        quick_sort(a,low,pi - 1)\n",
    "        quick_sort(a,pi+1,high)\n",
    "        \n",
    "def partition(a,low,high):\n",
    "    pivot = a[high]\n",
    "    i = low-1\n",
    "    \n",
    "    for j in range(low,high):\n",
    "        if a[j] <= pivot :\n",
    "            i+=1\n",
    "            (a[i], a[j]) = (a[j], a[i])\n",
    "           \n",
    "    (a[i+1], a[high]) = (a[high], a[i+1])\n",
    "    return i+1\n"
   ]
  },
  {
   "cell_type": "code",
   "execution_count": 14,
   "id": "69be5cbc",
   "metadata": {},
   "outputs": [
    {
     "name": "stdout",
     "output_type": "stream",
     "text": [
      "Open :\n",
      "quick sort: Time required = 0.00015939999957481632\n",
      "high :\n",
      "quick sort: Time required = 9.760000011738157e-05\n",
      "Low :\n",
      "quick sort: Time required = 8.929999967222102e-05\n",
      "close :\n",
      "quick sort: Time required = 8.479999996779952e-05\n",
      "Adj close:\n",
      "quick sort: Time required = 8.430000070802635e-05\n"
     ]
    }
   ],
   "source": [
    "start2 = time.perf_counter()\n",
    "print(\"Open :\")\n",
    "quick_sort(a, 0, len(array) - 1)\n",
    "end2 = time.perf_counter()\n",
    "print(f'quick sort: Time required = {end2 - start2}')\n",
    "\n",
    "start2 = time.perf_counter()\n",
    "print(\"high :\")\n",
    "quick_sort(b, 0, len(array) - 1)\n",
    "end2 = time.perf_counter()\n",
    "print(f'quick sort: Time required = {end2 - start2}')\n",
    "\n",
    "start2 = time.perf_counter()\n",
    "print(\"Low :\")\n",
    "quick_sort(c, 0, len(array) - 1)\n",
    "end2 = time.perf_counter()\n",
    "print(f'quick sort: Time required = {end2 - start2}')\n",
    "\n",
    "start2 = time.perf_counter()\n",
    "print(\"close :\")\n",
    "quick_sort(d, 0, len(array) - 1)\n",
    "end2 = time.perf_counter()\n",
    "print(f'quick sort: Time required = {end2 - start2}')\n",
    "\n",
    "start2 = time.perf_counter()\n",
    "print(\"Adj close:\")\n",
    "quick_sort(e, 0, len(array) - 1)\n",
    "end2 = time.perf_counter()\n",
    "print(f'quick sort: Time required = {end2 - start2}')"
   ]
  },
  {
   "cell_type": "code",
   "execution_count": null,
   "id": "08f26012",
   "metadata": {},
   "outputs": [],
   "source": []
  }
 ],
 "metadata": {
  "kernelspec": {
   "display_name": "Python 3",
   "language": "python",
   "name": "python3"
  },
  "language_info": {
   "codemirror_mode": {
    "name": "ipython",
    "version": 3
   },
   "file_extension": ".py",
   "mimetype": "text/x-python",
   "name": "python",
   "nbconvert_exporter": "python",
   "pygments_lexer": "ipython3",
   "version": "3.8.8"
  }
 },
 "nbformat": 4,
 "nbformat_minor": 5
}
