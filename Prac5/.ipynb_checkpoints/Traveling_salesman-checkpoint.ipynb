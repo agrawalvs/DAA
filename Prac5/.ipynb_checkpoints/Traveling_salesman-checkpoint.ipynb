{
 "cells": [
  {
   "cell_type": "code",
   "execution_count": null,
   "id": "b635e9c0",
   "metadata": {},
   "outputs": [],
   "source": [
    "pip install geopy"
   ]
  },
  {
   "cell_type": "code",
   "execution_count": null,
   "id": "c8afdd0a",
   "metadata": {},
   "outputs": [],
   "source": [
    "from geopy.geocoders import Nominatim\n",
    "geolocator = Nominatim(user_agent=\"ap1\")\n",
    "\n",
    "No_of_city = int(input(\"Enter no. of city to enter:\"))\n",
    "Citys = []\n",
    "Loc = []\n",
    "for i in range(No_of_city):\n",
    "    city = input()\n",
    "    Citys.append(city)\n",
    "\n",
    "for i in range(No_of_city):\n",
    "    location = geolocator.geocode(Citys[i])\n",
    "    loc = (location.latitude, location.longitude)\n",
    "    Loc.append(loc)"
   ]
  },
  {
   "cell_type": "code",
   "execution_count": null,
   "id": "726610bd",
   "metadata": {},
   "outputs": [],
   "source": [
    "from geopy.distance import geodesic\n",
    "G = []\n",
    "for i in range(No_of_city):\n",
    "    lst = []\n",
    "    for j in range(No_of_city):\n",
    "        nm1=geodesic(Loc[i], Loc[j]).miles\n",
    "        lst.append(nm1)\n",
    "    G.append(lst)\n",
    "for i in G:\n",
    "    print(i)"
   ]
  },
  {
   "cell_type": "code",
   "execution_count": null,
   "id": "cda42dde",
   "metadata": {},
   "outputs": [],
   "source": [
    "from sys import maxsize\n",
    "V = No_of_city\n",
    "\n",
    "def permutation(lst):\n",
    "    if len(lst) == 0:\n",
    "        return []\n",
    "\n",
    "    if len(lst) == 1:\n",
    "        return [lst]\n",
    "\n",
    "    l = [] \n",
    "    for i in range(len(lst)):\n",
    "        m = lst[i]\n",
    "        remLst = lst[:i] + lst[i+1:]\n",
    "\n",
    "        for p in permutation(remLst):\n",
    "            l.append([m] + p)\n",
    "    return l\n",
    "    \n",
    "def tsp(graph, s):\n",
    "     vertex = []\n",
    "    for i in range(V):\n",
    "        if i != s:\n",
    "            vertex.append(i)\n",
    "    min_path = []\n",
    "    min_size = maxsize\n",
    "    \n",
    "    permutation_list=permutations(vertex)\n",
    "    for i in permutation_list:\n",
    "        current_pathweight = 0\n",
    "        curr_path = i\n",
    "        k = s\n",
    "        for j in i:\n",
    "            current_pathweight += graph[k][j]\n",
    "            k = j\n",
    "        current_pathweight += graph[k][s]\n",
    "        if current_pathweight < min_size :\n",
    "            min_path = current_pathweight\n",
    "        min_size = min(min_size, current_pathweight)\n",
    "         \n",
    "    return min_path,min_size\n",
    "\n",
    "size = 0 \n",
    "path =[]\n",
    "for i in range(v):\n",
    "    path, size = travellingSalesmanProblem(G, i)\n",
    "    print(Citys[i])\n",
    "    for j in range (path):\n",
    "        print(\"--> \",end=\" \")\n",
    "        print(Citys[j])\n",
    "    print(\"--> \",end = \" \")\n",
    "    print(Citys[i])\n",
    "    print (\"The min cost for traveling is \",size)"
   ]
  }
 ],
 "metadata": {
  "kernelspec": {
   "display_name": "Python 3 (ipykernel)",
   "language": "python",
   "name": "python3"
  },
  "language_info": {
   "codemirror_mode": {
    "name": "ipython",
    "version": 3
   },
   "file_extension": ".py",
   "mimetype": "text/x-python",
   "name": "python",
   "nbconvert_exporter": "python",
   "pygments_lexer": "ipython3",
   "version": "3.9.12"
  }
 },
 "nbformat": 4,
 "nbformat_minor": 5
}
