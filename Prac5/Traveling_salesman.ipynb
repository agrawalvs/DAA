{
 "cells": [
  {
   "cell_type": "code",
   "execution_count": null,
   "id": "b635e9c0",
   "metadata": {},
   "outputs": [],
   "source": [
    "pip install geopy"
   ]
  },
  {
   "cell_type": "code",
   "execution_count": 1,
   "id": "c8afdd0a",
   "metadata": {},
   "outputs": [
    {
     "name": "stdout",
     "output_type": "stream",
     "text": [
      "Enter no. of city to enter:5\n",
      "Nagpur\n",
      "Mumbai\n",
      "Pune\n",
      "Nashik\n",
      "Amravati\n"
     ]
    }
   ],
   "source": [
    "from geopy.geocoders import Nominatim\n",
    "geolocator = Nominatim(user_agent=\"ap1\")\n",
    "\n",
    "No_of_city = int(input(\"Enter no. of city to enter:\"))\n",
    "Citys = []\n",
    "Loc = []\n",
    "for i in range(No_of_city):\n",
    "    city = input()\n",
    "    Citys.append(city)\n",
    "\n",
    "for i in range(No_of_city):\n",
    "    location = geolocator.geocode(Citys[i])\n",
    "    loc = (location.latitude, location.longitude)\n",
    "    Loc.append(loc)"
   ]
  },
  {
   "cell_type": "code",
   "execution_count": 2,
   "id": "726610bd",
   "metadata": {},
   "outputs": [
    {
     "name": "stdout",
     "output_type": "stream",
     "text": [
      "[0.0, 427.50202366902516, 385.2763086761525, 351.63117601750594, 92.79109381977645]\n",
      "[427.50202366902516, 0.0, 74.550293671268, 87.48224082988973, 340.99613546419033]\n",
      "[385.2763086761525, 74.550293671268, 0.0, 102.55989455322387, 306.00975166427065]\n",
      "[351.63117601750594, 87.48224082988973, 102.55989455322387, 0.0, 261.7575423593932]\n",
      "[92.79109381977645, 340.99613546419033, 306.00975166427065, 261.7575423593932, 0.0]\n"
     ]
    }
   ],
   "source": [
    "from geopy.distance import geodesic\n",
    "G = []\n",
    "for i in range(No_of_city):\n",
    "    lst = []\n",
    "    for j in range(No_of_city):\n",
    "        nm1=geodesic(Loc[i], Loc[j]).miles\n",
    "        lst.append(nm1)\n",
    "    G.append(lst)\n",
    "for i in G:\n",
    "    print(i)"
   ]
  },
  {
   "cell_type": "code",
   "execution_count": 14,
   "id": "cda42dde",
   "metadata": {},
   "outputs": [
    {
     "name": "stdout",
     "output_type": "stream",
     "text": [
      "Nagpur -->  Pune -->  Mumbai -->  Nashik -->  Amravati -->  Nagpur\n",
      "The min cost for traveling is  901.8574793564799 \n",
      "\n",
      "\n",
      "Mumbai -->  Nashik -->  Amravati -->  Nagpur -->  Pune -->  Mumbai\n",
      "The min cost for traveling is  901.8574793564799 \n",
      "\n",
      "\n",
      "Pune -->  Mumbai -->  Nashik -->  Amravati -->  Nagpur -->  Pune\n",
      "The min cost for traveling is  901.8574793564799 \n",
      "\n",
      "\n",
      "Nashik -->  Mumbai -->  Pune -->  Nagpur -->  Amravati -->  Nashik\n",
      "The min cost for traveling is  901.8574793564799 \n",
      "\n",
      "\n",
      "Amravati -->  Nagpur -->  Pune -->  Mumbai -->  Nashik -->  Amravati\n",
      "The min cost for traveling is  901.8574793564799 \n",
      "\n",
      "\n"
     ]
    }
   ],
   "source": [
    "from sys import maxsize\n",
    "V = No_of_city\n",
    "\n",
    "def permutation(lst):\n",
    "    if len(lst) == 0:\n",
    "        return []\n",
    "\n",
    "    if len(lst) == 1:\n",
    "        return [lst]\n",
    "\n",
    "    l = [] \n",
    "    for i in range(len(lst)):\n",
    "        m = lst[i]\n",
    "        remLst = lst[:i] + lst[i+1:]\n",
    "\n",
    "        for p in permutation(remLst):\n",
    "            l.append([m] + p)\n",
    "    return l\n",
    "    \n",
    "def tsp(graph, s):\n",
    "    vertex = []\n",
    "    for i in range(V):\n",
    "        if i != s:\n",
    "            vertex.append(i)\n",
    "    min_path = []\n",
    "    min_size = maxsize\n",
    "    \n",
    "    permutation_list=permutation(vertex)\n",
    "    for i in permutation_list:\n",
    "        current_pathweight = 0\n",
    "        curr_path = i\n",
    "        k = s\n",
    "        for j in i:\n",
    "            current_pathweight += graph[k][j]\n",
    "            k = j\n",
    "        current_pathweight += graph[k][s]\n",
    "        if current_pathweight < min_size :\n",
    "            min_path = curr_path\n",
    "        min_size = min(min_size, current_pathweight)\n",
    "         \n",
    "    return min_path,min_size\n",
    "\n",
    "size = 0 \n",
    "path =[]\n",
    "for i in range(V):\n",
    "    path, size = tsp(G, i)\n",
    "    print(Citys[i],end =\" \")\n",
    "    for j in path:\n",
    "        print(\"--> \",Citys[j],end=\" \")\n",
    "        \n",
    "    print(\"--> \",Citys[i])\n",
    "    print (\"The min cost for traveling is \",size,\"\\n\\n\")"
   ]
  },
  {
   "cell_type": "code",
   "execution_count": null,
   "id": "f897a6ff",
   "metadata": {},
   "outputs": [],
   "source": []
  }
 ],
 "metadata": {
  "kernelspec": {
   "display_name": "Python 3 (ipykernel)",
   "language": "python",
   "name": "python3"
  },
  "language_info": {
   "codemirror_mode": {
    "name": "ipython",
    "version": 3
   },
   "file_extension": ".py",
   "mimetype": "text/x-python",
   "name": "python",
   "nbconvert_exporter": "python",
   "pygments_lexer": "ipython3",
   "version": "3.9.12"
  }
 },
 "nbformat": 4,
 "nbformat_minor": 5
}
