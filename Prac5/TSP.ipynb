{
 "cells": [
  {
   "cell_type": "code",
   "execution_count": null,
   "metadata": {
    "colab": {
     "base_uri": "https://localhost:8080/"
    },
    "id": "RWQDO9q4tVlS",
    "outputId": "904cd202-b1c1-47e4-cfe1-c3d020fe8312"
   },
   "outputs": [
    {
     "name": "stdout",
     "output_type": "stream",
     "text": [
      "0 \t 0-->3-->2-->1-->0 \t 35\n",
      "1 \t 1-->3-->2-->1-->1 \t 35\n",
      "2 \t 2-->3-->2-->1-->2 \t 35\n",
      "3 \t 3-->3-->2-->1-->3 \t 35\n"
     ]
    }
   ],
   "source": [
    "def tsp(x,s,i):\n",
    "   min=float('inf')\n",
    "   path=\"\"\n",
    "   if(len(s)):\n",
    "     for k in s:\n",
    "       cost,path=tsp(k,s-{k},i)\n",
    "       cost=cost+graph[x][k]\n",
    "       if(cost<min):\n",
    "         min=cost\n",
    "     path=(str(x)+\"-->\")+path\n",
    "     return min,path\n",
    "   else:\n",
    "    path=str(i)\n",
    "    return graph[x][i],path\n",
    "\n",
    "graph=[\n",
    "[0,10,15,20],\n",
    "[5,0,9,10],\n",
    "[6,13,0,12],\n",
    "[8,8,9,0]\n",
    "]\n",
    "s={0,1,2,3}\n",
    "for i in s:\n",
    " u,v=tsp(i,s,i) # v-->path, u-->cost of the path\n",
    " print(i,\"\\t\",v,\"\\t\",u)"
   ]
  },
  {
   "cell_type": "markdown",
   "metadata": {
    "id": "ylCoZ5ZVy5yu"
   },
   "source": [
    "S. No  (5)  no of cities (NOde)      path              Cost  \n",
    "\n",
    "    (nagpur-->Akola->pune-->nagpur)"
   ]
  },
  {
   "cell_type": "code",
   "execution_count": null,
   "metadata": {},
   "outputs": [],
   "source": []
  }
 ],
 "metadata": {
  "colab": {
   "collapsed_sections": [],
   "provenance": []
  },
  "kernelspec": {
   "display_name": "Python 3 (ipykernel)",
   "language": "python",
   "name": "python3"
  },
  "language_info": {
   "codemirror_mode": {
    "name": "ipython",
    "version": 3
   },
   "file_extension": ".py",
   "mimetype": "text/x-python",
   "name": "python",
   "nbconvert_exporter": "python",
   "pygments_lexer": "ipython3",
   "version": "3.9.12"
  }
 },
 "nbformat": 4,
 "nbformat_minor": 1
}
