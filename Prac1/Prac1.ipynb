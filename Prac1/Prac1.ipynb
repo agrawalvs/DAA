{
 "cells": [
  {
   "cell_type": "code",
   "execution_count": 1,
   "id": "4e1ad944",
   "metadata": {},
   "outputs": [
    {
     "name": "stdout",
     "output_type": "stream",
     "text": [
      "Enter Array values: 1 58 65\n",
      "Maximum Value in array :  65\n",
      "Minimum Value in array :  1\n",
      "Maximum Value in array :  65\n",
      "Minimum Value in array :  1\n"
     ]
    }
   ],
   "source": [
    "def brute_force(arr):\n",
    "    max = arr[0]\n",
    "    min = arr[0]\n",
    "    for i in arr:\n",
    "        if(i>max):\n",
    "            max = i\n",
    "        if(i<min):\n",
    "            min = i\n",
    "    print(\"Maximum Value in array : \" , max)\n",
    "    print(\"Minimum Value in array : \" , min)\n",
    "\n",
    "def div_and_conq(arr):\n",
    "    n = len(arr)\n",
    "    res = minmax(arr,0,n-1)\n",
    "    print(\"Maximum Value in array : \" , res[1])\n",
    "    print(\"Minimum Value in array : \" , res[0])\n",
    "    \n",
    "def minmax(arr,start,end):\n",
    "    result = []\n",
    "    if(start == end):\n",
    "        result.append(arr[start])\n",
    "        result.append(arr[start])\n",
    "        return result\n",
    "    elif(end-start == 1):\n",
    "        if(arr[end]>arr[start]):\n",
    "            result.append(arr[start])\n",
    "            result.append(arr[end])\n",
    "            return result\n",
    "        else:\n",
    "            result.append(arr[end])\n",
    "            result.append(arr[start])\n",
    "            return result\n",
    "    else:\n",
    "        mid = start+end//2\n",
    "        res1 = minmax(arr,start,mid)\n",
    "        res2 = minmax(arr,mid+1,end)\n",
    "        result.append(res1[0] if(res1[0]<res2[0]) else res2[0])\n",
    "        result.append(res1[1] if(res1[1]>res2[1]) else res2[1])\n",
    "        return result\n",
    "        \n",
    "x = list(map(int, input(\"Enter Array values: \").split()))\n",
    "brute_force(x)\n",
    "div_and_conq(x)\n"
   ]
  },
  {
   "cell_type": "code",
   "execution_count": null,
   "id": "80beb487",
   "metadata": {},
   "outputs": [],
   "source": []
  },
  {
   "cell_type": "code",
   "execution_count": null,
   "id": "b5cdd8df",
   "metadata": {},
   "outputs": [],
   "source": []
  }
 ],
 "metadata": {
  "kernelspec": {
   "display_name": "Python 3 (ipykernel)",
   "language": "python",
   "name": "python3"
  },
  "language_info": {
   "codemirror_mode": {
    "name": "ipython",
    "version": 3
   },
   "file_extension": ".py",
   "mimetype": "text/x-python",
   "name": "python",
   "nbconvert_exporter": "python",
   "pygments_lexer": "ipython3",
   "version": "3.9.7"
  }
 },
 "nbformat": 4,
 "nbformat_minor": 5
}
