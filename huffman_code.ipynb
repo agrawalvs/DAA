{
 "cells": [
  {
   "cell_type": "code",
   "execution_count": 9,
   "id": "faea85ea",
   "metadata": {},
   "outputs": [
    {
     "name": "stdout",
     "output_type": "stream",
     "text": [
      "[('j', 1), ('g', 1), ('h', 1), ('a', 2), ('f', 2), ('s', 2), ('k', 2), ('d', 2), ('l', 2)]\n"
     ]
    }
   ],
   "source": [
    "r as op\n",
    "\n",
    "def get_freq(msg):\n",
    "    msglist = []\n",
    "    for i in msg:\n",
    "        msglist.append(i)\n",
    "    msgset = set(msglist)\n",
    "    freq =[]\n",
    "    for i in msgset:\n",
    "        freq.append((i,msglist.count(i)))\n",
    "    freq.sort(key = lambda x: x[1])\n",
    "    return freq\n",
    "\n",
    "\n",
    "\n",
    "msg = 'asdfhjklasdfgkl'\n",
    "get_freq(msg)"
   ]
  },
  {
   "cell_type": "code",
   "execution_count": null,
   "id": "c6fd117a",
   "metadata": {},
   "outputs": [],
   "source": []
  }
 ],
 "metadata": {
  "kernelspec": {
   "display_name": "Python 3",
   "language": "python",
   "name": "python3"
  },
  "language_info": {
   "codemirror_mode": {
    "name": "ipython",
    "version": 3
   },
   "file_extension": ".py",
   "mimetype": "text/x-python",
   "name": "python",
   "nbconvert_exporter": "python",
   "pygments_lexer": "ipython3",
   "version": "3.8.8"
  }
 },
 "nbformat": 4,
 "nbformat_minor": 5
}
