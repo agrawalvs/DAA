{
 "cells": [
  {
   "cell_type": "code",
   "execution_count": 19,
   "id": "601a2cad",
   "metadata": {},
   "outputs": [
    {
     "name": "stdout",
     "output_type": "stream",
     "text": [
      "Enter no. of city to enter:5\n",
      "Nagpur\n",
      "Mumbai\n",
      "Pune\n",
      "Nashik\n",
      "Thane\n"
     ]
    }
   ],
   "source": [
    "from geopy.geocoders import Nominatim\n",
    "geolocator = Nominatim(user_agent=\"ap1\")\n",
    "\n",
    "No_of_city = int(input(\"Enter no. of city to enter:\"))\n",
    "Citys = []\n",
    "Loc = []\n",
    "for i in range(No_of_city):\n",
    "    city = input()\n",
    "    Citys.append(city)\n",
    "\n",
    "for i in range(No_of_city):\n",
    "    location = geolocator.geocode(Citys[i])\n",
    "    loc = (location.latitude, location.longitude)\n",
    "    Loc.append(loc)"
   ]
  },
  {
   "cell_type": "code",
   "execution_count": 26,
   "id": "a18c618e",
   "metadata": {},
   "outputs": [
    {
     "name": "stdout",
     "output_type": "stream",
     "text": [
      "[0.0, 427.50202366902516, 385.2763086761525, 351.63117601750594, 419.1135964192502]\n",
      "[427.50202366902516, 0.0, 74.550293671268, 87.48224082988973, 9.979747789152853]\n",
      "[385.2763086761525, 74.550293671268, 0.0, 102.55989455322387, 74.1264796790887]\n",
      "[351.63117601750594, 87.48224082988973, 102.55989455322387, 0.0, 77.5569066629451]\n",
      "[419.1135964192502, 9.979747789152853, 74.1264796790887, 77.5569066629451, 0.0]\n"
     ]
    }
   ],
   "source": [
    "from geopy.distance import geodesic\n",
    "G = []\n",
    "for i in range(No_of_city):\n",
    "    lst = []\n",
    "    for j in range(No_of_city):\n",
    "        nm1=geodesic(Loc[i], Loc[j]).miles\n",
    "        lst.append(nm1)\n",
    "    G.append(lst)\n",
    "for i in G:\n",
    "    print(i)"
   ]
  },
  {
   "cell_type": "code",
   "execution_count": 27,
   "id": "fa4f5ad6",
   "metadata": {},
   "outputs": [
    {
     "name": "stdout",
     "output_type": "stream",
     "text": [
      "Edge : Weight\n",
      "\n",
      "Nagpur-Nashik:351.63117601750594\n",
      "Nashik-Thane:77.5569066629451\n",
      "Thane-Mumbai:9.979747789152853\n",
      "Thane-Pune:74.1264796790887\n",
      "Minimum Cost: 513.2943101486926\n"
     ]
    }
   ],
   "source": [
    "INF = 9999999\n",
    "V = 5\n",
    "selected = [0, 0, 0, 0, 0]\n",
    "no_edge = 0\n",
    "min_cost = 0\n",
    "selected[0] = True\n",
    "print(\"Edge : Weight\\n\")\n",
    "while (no_edge < V - 1):\n",
    "    minimum = INF\n",
    "    x = 0\n",
    "    y = 0\n",
    "    for i in range(V):\n",
    "        if selected[i]:\n",
    "            for j in range(V):\n",
    "                if ((not selected[j]) and G[i][j]):  \n",
    "                    if minimum > G[i][j]:\n",
    "                        minimum = G[i][j]\n",
    "                        x = i\n",
    "                        y = j\n",
    "    print(str(Citys[x]) + \"-\" + str(Citys[y]) + \":\" + str(G[x][y]))\n",
    "    min_cost += G[x][y]\n",
    "    selected[y] = True\n",
    "    no_edge += 1\n",
    "print(\"Minimum Cost:\",min_cost)"
   ]
  },
  {
   "cell_type": "code",
   "execution_count": null,
   "id": "ac0f671a",
   "metadata": {},
   "outputs": [],
   "source": []
  }
 ],
 "metadata": {
  "kernelspec": {
   "display_name": "Python 3",
   "language": "python",
   "name": "python3"
  },
  "language_info": {
   "codemirror_mode": {
    "name": "ipython",
    "version": 3
   },
   "file_extension": ".py",
   "mimetype": "text/x-python",
   "name": "python",
   "nbconvert_exporter": "python",
   "pygments_lexer": "ipython3",
   "version": "3.8.8"
  }
 },
 "nbformat": 4,
 "nbformat_minor": 5
}
